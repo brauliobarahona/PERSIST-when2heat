{
 "cells": [
  {
   "cell_type": "markdown",
   "metadata": {
    "toc": true
   },
   "source": [
    "# Table of contents\n",
    "1. [About Open Power System Data](#opsd)\n",
    "2. [About Jupyter Notebooks and GitHub](#jupyter)\n",
    "3. [About this datapackage](#datapackage)\n",
    "4. [Data sources](#sources)\n",
    "5. [Naming conventions](#naming)\n",
    "6. [License](#license)"
   ]
  },
  {
   "cell_type": "markdown",
   "metadata": {},
   "source": [
    "<div style=\"width:100%; background-color: #D9EDF7; border: 1px solid #CFCFCF; text-align: left; padding: 10px;\">\n",
    "      <b>Time series: Processing Notebook</b>\n",
    "      <ul>\n",
    "        <li>Main Notebook</li>\n",
    "        <li><a href=\"processing.ipynb\">Processing Notebook</a></li>\n",
    "      </ul>\n",
    "      <br>This Notebook is part of the <a href=\"http://data.open-power-system-data.org/heating_profiles\">heating profiles data package</a> contributed to the <a href=\"http://open-power-system-data.org\">Open Power System Data</a> platform.\n",
    "</div>"
   ]
  },
  {
   "cell_type": "markdown",
   "metadata": {},
   "source": [
    "<a id='opsd'></a>\n",
    "# 1. About Open Power System Data"
   ]
  },
  {
   "cell_type": "markdown",
   "metadata": {},
   "source": [
    "This notebook is a contribution to the project [Open Power System Data](http://open-power-system-data.org). Open Power System Data develops a platform for free and open data for electricity system modeling. We collect, check, process, document, and provide data that are publicly available but currently inconvenient to use. \n",
    "More info on Open Power System Data:\n",
    "- [Information on the project on our website](http://open-power-system-data.org)\n",
    "- [Data and metadata on our data platform](http://data.open-power-system-data.org)\n",
    "- [Data processing scripts on our GitHub page](https://github.com/Open-Power-System-Data)"
   ]
  },
  {
   "cell_type": "markdown",
   "metadata": {},
   "source": [
    "<a id='jupyter'></a>\n",
    "# 2. About Jupyter Notebooks and GitHub"
   ]
  },
  {
   "cell_type": "markdown",
   "metadata": {},
   "source": [
    "This file is a [Jupyter Notebook](http://jupyter.org/). A Jupyter Notebook is a file that combines executable programming code with visualizations and comments in markdown format, allowing for an intuitive documentation of the code. We use Jupyter Notebooks for combined coding and documentation. We use Python 3 as programming language. All Notebooks are stored on [GitHub](https://github.com/), a platform for software development, and are publicly available. More information on our IT-concept can be found [here](http://open-power-system-data.org/it). See also our [step-by-step manual](http://open-power-system-data.org/step-by-step) how to use the dataplatform."
   ]
  },
  {
   "cell_type": "markdown",
   "metadata": {},
   "source": [
    "<a id='datapackage'></a>\n",
    "# 3. About this datapackage"
   ]
  },
  {
   "cell_type": "markdown",
   "metadata": {},
   "source": [
    "This dataset comprises national time series for representing building heat pumps in power system models. The heat demand of buildings and the coefficient of performance (COP) of heat pumps is calculated for several European countries and years in an hourly resolution.  \n",
    "    \n",
    "Heat demand time series for space and water heating are computed by combining gas standard load profiles with spatial temperature and wind speed reanalysis data as well as population geodata. The profiles are year-wise scaled to 1 TWh each. For the years 2008 to 2015, the data is additionally scaled with annual statistics on the final energy consumption for heating.\n",
    "    \n",
    "COP time series for different heat sources – air, ground, and groundwater – and different heat sinks – floor heating, radiators, and water heating – are calculated based on COP and heating curves using reanalysis temperature data, spatially aggregated with respect to the heat demand, and corrected based on field measurements.\n",
    "    \n",
    "All data processing as well as the download of relevant input data is conducted in python and pandas and has been documented in the processing notebooks linked below. Please also consider and cite our <a href=\"https://doi.org/10.1038/s41597-019-0199-y\">Data Descriptor</a>."
   ]
  },
  {
   "cell_type": "markdown",
   "metadata": {},
   "source": [
    "<a id='sources'></a>\n",
    "# 4. Data sources"
   ]
  },
  {
   "cell_type": "markdown",
   "metadata": {},
   "source": [
    "A complete list of data sources is provided on the [datapackage information website](http://data.open-power-system-data.org/when2heat/latest). They are also contained in the JSON file that contains all metadata."
   ]
  },
  {
   "cell_type": "markdown",
   "metadata": {},
   "source": [
    "<a id='naming'></a>\n",
    "# 5. Naming conventions"
   ]
  },
  {
   "cell_type": "code",
   "execution_count": 1,
   "metadata": {
    "scrolled": false
   },
   "outputs": [
    {
     "data": {
      "text/html": [
       "<div>\n",
       "<style scoped>\n",
       "    .dataframe tbody tr th:only-of-type {\n",
       "        vertical-align: middle;\n",
       "    }\n",
       "\n",
       "    .dataframe tbody tr th {\n",
       "        vertical-align: top;\n",
       "    }\n",
       "\n",
       "    .dataframe thead th {\n",
       "        text-align: right;\n",
       "    }\n",
       "</style>\n",
       "<table border=\"1\" class=\"dataframe\">\n",
       "  <thead>\n",
       "    <tr style=\"text-align: right;\">\n",
       "      <th></th>\n",
       "      <th></th>\n",
       "      <th></th>\n",
       "      <th></th>\n",
       "    </tr>\n",
       "    <tr>\n",
       "      <th>country</th>\n",
       "      <th>variable</th>\n",
       "      <th>attribute</th>\n",
       "      <th>description</th>\n",
       "    </tr>\n",
       "  </thead>\n",
       "  <tbody>\n",
       "    <tr>\n",
       "      <th rowspan=\"24\" valign=\"top\">ISO-2 digit country code</th>\n",
       "      <th rowspan=\"9\" valign=\"top\">heat_demand</th>\n",
       "      <th>total</th>\n",
       "      <th>Heat demand for space and water heating</th>\n",
       "    </tr>\n",
       "    <tr>\n",
       "      <th>space</th>\n",
       "      <th>Heat demand for space heating</th>\n",
       "    </tr>\n",
       "    <tr>\n",
       "      <th>water</th>\n",
       "      <th>Heat demand for water heating</th>\n",
       "    </tr>\n",
       "    <tr>\n",
       "      <th>space_SFH</th>\n",
       "      <th>Heat demand for space heating in single-family houses</th>\n",
       "    </tr>\n",
       "    <tr>\n",
       "      <th>space_MFH</th>\n",
       "      <th>Heat demand for space heating in multi-family houses</th>\n",
       "    </tr>\n",
       "    <tr>\n",
       "      <th>space_COM</th>\n",
       "      <th>Heat demand for space heating in commercial buildings</th>\n",
       "    </tr>\n",
       "    <tr>\n",
       "      <th>water_SFH</th>\n",
       "      <th>Heat demand for water heating in single-family houses</th>\n",
       "    </tr>\n",
       "    <tr>\n",
       "      <th>water_MFH</th>\n",
       "      <th>Heat demand for water heating in multi-family houses</th>\n",
       "    </tr>\n",
       "    <tr>\n",
       "      <th>water_COM</th>\n",
       "      <th>Heat demand for water heating in commercial buildings</th>\n",
       "    </tr>\n",
       "    <tr>\n",
       "      <th rowspan=\"6\" valign=\"top\">heat_profile</th>\n",
       "      <th>space_SFH</th>\n",
       "      <th>Normalized heat demand for space heating in single-family houses</th>\n",
       "    </tr>\n",
       "    <tr>\n",
       "      <th>space_MFH</th>\n",
       "      <th>Normalized heat demand for space heating in multi-family houses</th>\n",
       "    </tr>\n",
       "    <tr>\n",
       "      <th>space_COM</th>\n",
       "      <th>Normalized heat demand for space heating in commercial buildings</th>\n",
       "    </tr>\n",
       "    <tr>\n",
       "      <th>water_SFH</th>\n",
       "      <th>Normalized heat demand for water heating in single-family houses</th>\n",
       "    </tr>\n",
       "    <tr>\n",
       "      <th>water_MFH</th>\n",
       "      <th>Normalized heat demand for water heating in multi-family houses</th>\n",
       "    </tr>\n",
       "    <tr>\n",
       "      <th>water_COM</th>\n",
       "      <th>Normalized heat demand for water heating in commercial buildings</th>\n",
       "    </tr>\n",
       "    <tr>\n",
       "      <th rowspan=\"9\" valign=\"top\">COP</th>\n",
       "      <th>ASHP_floor</th>\n",
       "      <th>COP of air-source heat pumps with floor heating</th>\n",
       "    </tr>\n",
       "    <tr>\n",
       "      <th>ASHP_radiator</th>\n",
       "      <th>COP of air-source heat pumps with radiator heating</th>\n",
       "    </tr>\n",
       "    <tr>\n",
       "      <th>ASHP_water</th>\n",
       "      <th>COP of air-source heat pumps with water heating</th>\n",
       "    </tr>\n",
       "    <tr>\n",
       "      <th>GSHP_floor</th>\n",
       "      <th>COP of ground-source heat pumps with floor heating</th>\n",
       "    </tr>\n",
       "    <tr>\n",
       "      <th>GSHP_radiator</th>\n",
       "      <th>COP of ground-source heat pumps with radiator heating</th>\n",
       "    </tr>\n",
       "    <tr>\n",
       "      <th>GSHP_water</th>\n",
       "      <th>COP of ground-source heat pumps with water heating</th>\n",
       "    </tr>\n",
       "    <tr>\n",
       "      <th>WSHP_floor</th>\n",
       "      <th>COP of groundwater-source heat pumps with floor heating</th>\n",
       "    </tr>\n",
       "    <tr>\n",
       "      <th>WSHP_radiator</th>\n",
       "      <th>COP of groundwater-source heat pumps with radiator heating</th>\n",
       "    </tr>\n",
       "    <tr>\n",
       "      <th>WSHP_water</th>\n",
       "      <th>COP of groundwater-source heat pumps with water heating</th>\n",
       "    </tr>\n",
       "  </tbody>\n",
       "</table>\n",
       "</div>"
      ],
      "text/plain": [
       "Empty DataFrame\n",
       "Columns: []\n",
       "Index: [(ISO-2 digit country code, heat_demand, total, Heat demand for space and water heating), (ISO-2 digit country code, heat_demand, space, Heat demand for space heating), (ISO-2 digit country code, heat_demand, water, Heat demand for water heating), (ISO-2 digit country code, heat_demand, space_SFH, Heat demand for space heating in single-family houses), (ISO-2 digit country code, heat_demand, space_MFH, Heat demand for space heating in multi-family houses), (ISO-2 digit country code, heat_demand, space_COM, Heat demand for space heating in commercial buildings), (ISO-2 digit country code, heat_demand, water_SFH, Heat demand for water heating in single-family houses), (ISO-2 digit country code, heat_demand, water_MFH, Heat demand for water heating in multi-family houses), (ISO-2 digit country code, heat_demand, water_COM, Heat demand for water heating in commercial buildings), (ISO-2 digit country code, heat_profile, space_SFH, Normalized heat demand for space heating in single-family houses), (ISO-2 digit country code, heat_profile, space_MFH, Normalized heat demand for space heating in multi-family houses), (ISO-2 digit country code, heat_profile, space_COM, Normalized heat demand for space heating in commercial buildings), (ISO-2 digit country code, heat_profile, water_SFH, Normalized heat demand for water heating in single-family houses), (ISO-2 digit country code, heat_profile, water_MFH, Normalized heat demand for water heating in multi-family houses), (ISO-2 digit country code, heat_profile, water_COM, Normalized heat demand for water heating in commercial buildings), (ISO-2 digit country code, COP, ASHP_floor, COP of air-source heat pumps with floor heating), (ISO-2 digit country code, COP, ASHP_radiator, COP of air-source heat pumps with radiator heating), (ISO-2 digit country code, COP, ASHP_water, COP of air-source heat pumps with water heating), (ISO-2 digit country code, COP, GSHP_floor, COP of ground-source heat pumps with floor heating), (ISO-2 digit country code, COP, GSHP_radiator, COP of ground-source heat pumps with radiator heating), (ISO-2 digit country code, COP, GSHP_water, COP of ground-source heat pumps with water heating), (ISO-2 digit country code, COP, WSHP_floor, COP of groundwater-source heat pumps with floor heating), (ISO-2 digit country code, COP, WSHP_radiator, COP of groundwater-source heat pumps with radiator heating), (ISO-2 digit country code, COP, WSHP_water, COP of groundwater-source heat pumps with water heating)]"
      ]
     },
     "execution_count": 1,
     "metadata": {},
     "output_type": "execute_result"
    }
   ],
   "source": [
    "import pandas as pd; pd.read_csv('input/notation.csv', index_col=list(range(4)))"
   ]
  },
  {
   "cell_type": "markdown",
   "metadata": {},
   "source": [
    "<a id='license'></a>\n",
    "# 6. License"
   ]
  },
  {
   "cell_type": "markdown",
   "metadata": {},
   "source": [
    "This notebook as well as all other documents in this repository is published under the [MIT License](LICENSE.md)."
   ]
  }
 ],
 "metadata": {
  "anaconda-cloud": {},
  "kernelspec": {
   "display_name": "Python 3",
   "language": "python",
   "name": "python3"
  },
  "language_info": {
   "codemirror_mode": {
    "name": "ipython",
    "version": 3
   },
   "file_extension": ".py",
   "mimetype": "text/x-python",
   "name": "python",
   "nbconvert_exporter": "python",
   "pygments_lexer": "ipython3",
   "version": "3.7.10"
  },
  "toc": {
   "nav_menu": {
    "height": "120px",
    "width": "252px"
   },
   "number_sections": false,
   "sideBar": true,
   "skip_h1_title": false,
   "toc_cell": true,
   "toc_position": {},
   "toc_section_display": "block",
   "toc_window_display": true
  },
  "varInspector": {
   "cols": {
    "lenName": 16,
    "lenType": 16,
    "lenVar": 40
   },
   "kernels_config": {
    "python": {
     "delete_cmd_postfix": "",
     "delete_cmd_prefix": "del ",
     "library": "var_list.py",
     "varRefreshCmd": "print(var_dic_list())"
    },
    "r": {
     "delete_cmd_postfix": ") ",
     "delete_cmd_prefix": "rm(",
     "library": "var_list.r",
     "varRefreshCmd": "cat(var_dic_list()) "
    }
   },
   "types_to_exclude": [
    "module",
    "function",
    "builtin_function_or_method",
    "instance",
    "_Feature"
   ],
   "window_display": false
  }
 },
 "nbformat": 4,
 "nbformat_minor": 1
}
