{
 "cells": [
  {
   "cell_type": "markdown",
   "id": "636d200f",
   "metadata": {},
   "source": [
    "## Manual data download"
   ]
  },
  {
   "cell_type": "markdown",
   "id": "d3033e30",
   "metadata": {},
   "source": [
    "Download files from [JRC-IDEES](https://data.jrc.ec.europa.eu/dataset/jrc-10110-10001) and follow the Excel url. Than, download the country-specific annual demands \"JRC-IDEES-2015_All_xlsx_COUNTRY.zip\" and pose the sector specific file in your repository or adjust your filename with your download path. "
   ]
  },
  {
   "cell_type": "markdown",
   "id": "ed6d60d6",
   "metadata": {},
   "source": [
    "## Import Python libraries"
   ]
  },
  {
   "cell_type": "code",
   "execution_count": 1,
   "id": "c6404e3a",
   "metadata": {},
   "outputs": [],
   "source": [
    "import pandas as pd\n",
    "from openpyxl import load_workbook\n",
    "import os"
   ]
  },
  {
   "cell_type": "markdown",
   "id": "1b5bcba0",
   "metadata": {},
   "source": [
    "## Select geographical, sectoral, and temporal scope"
   ]
  },
  {
   "cell_type": "code",
   "execution_count": 2,
   "id": "1b192e12",
   "metadata": {},
   "outputs": [],
   "source": [
    "all_countries = ['AT', 'BE', 'BG', 'CZ', 'DE', 'DK', \n",
    "                 'EE', 'ES', 'FI', 'FR', 'UK', 'HR', \n",
    "                 'HU', 'IE', 'IT', 'LT', 'LU', 'LV', 'EL',\n",
    "                  'NL', 'PL', 'PT', 'RO', 'SE', 'SI', 'SK']\n",
    "selected_countries = all_countries\n",
    "\n",
    "# GB is named UK in JCR\n",
    "# GR is named EL in JCR\n",
    "# missing in JCR: CH, NO\n",
    "name_clearification = {\"UK\" : \"GB\",\n",
    "                      \"EL\": \"GR\"}"
   ]
  },
  {
   "cell_type": "code",
   "execution_count": 3,
   "id": "852ecc55",
   "metadata": {},
   "outputs": [],
   "source": [
    "sectors = [\"Residential\", \"Tertiary\"]\n",
    "applications = [\"water\", \"space\"]\n",
    "\n",
    "start_year = \"2008\"\n",
    "end_year = \"2015\""
   ]
  },
  {
   "cell_type": "markdown",
   "id": "10173279",
   "metadata": {},
   "source": [
    "## Preprocessing of JRC-IDEES data"
   ]
  },
  {
   "cell_type": "markdown",
   "id": "2ae9398a",
   "metadata": {},
   "source": [
    "Read the excel country- and sector-specific excel and make a sector-specific dataframe which is placed in the interim folder"
   ]
  },
  {
   "cell_type": "code",
   "execution_count": 4,
   "id": "fe220566",
   "metadata": {},
   "outputs": [],
   "source": [
    "def read (sector, application, country_code):\n",
    "    filename = f\"JRC-IDEES-2015_{sector}_{country_code}.xlsx\"\n",
    "    \n",
    "    sheet_name = \"RES_hh_tes\" if sector == \"Residential\" else \"SER_hh_tes\"\n",
    "    \n",
    "    raw = pd.read_excel(filename, header = 0, sheet_name = sheet_name, index_col = 0)\n",
    "    \n",
    "    if application == \"water\":\n",
    "        row_selection = 'Water heating' if sector == \"Residential\" else \"Hot water\"\n",
    "    else: \n",
    "        row_selection = \"Space heating\"\n",
    "        \n",
    "    if country_code == (\"UK\" or \"EL\"):\n",
    "        df = raw.loc[row_selection, start_year:end_year].to_frame().rename(columns = {row_selection: name_clearification[country_code]})\n",
    "    else:  \n",
    "        df = raw.loc[row_selection, start_year:end_year].to_frame().rename(columns = {row_selection: country_code})\n",
    "    df = df.transpose() * 1.163e-2\n",
    "    return df"
   ]
  },
  {
   "cell_type": "code",
   "execution_count": 5,
   "id": "c20c8af6",
   "metadata": {},
   "outputs": [],
   "source": [
    "interim_path = os.path.realpath('../interim')"
   ]
  },
  {
   "cell_type": "code",
   "execution_count": 6,
   "id": "2d27793a",
   "metadata": {},
   "outputs": [],
   "source": [
    "for sector in sectors:\n",
    "    for application in applications:\n",
    "            pd.concat([\n",
    "                read(sector, application, country) for country in selected_countries\n",
    "            ], axis = 0).to_csv(f\"{interim_path}/{sector}_{application}.csv\", decimal = \",\")"
   ]
  },
  {
   "cell_type": "code",
   "execution_count": null,
   "id": "2cdf39dc",
   "metadata": {},
   "outputs": [],
   "source": []
  }
 ],
 "metadata": {
  "kernelspec": {
   "display_name": "Python 3",
   "language": "python",
   "name": "python3"
  },
  "language_info": {
   "codemirror_mode": {
    "name": "ipython",
    "version": 3
   },
   "file_extension": ".py",
   "mimetype": "text/x-python",
   "name": "python",
   "nbconvert_exporter": "python",
   "pygments_lexer": "ipython3",
   "version": "3.7.10"
  }
 },
 "nbformat": 4,
 "nbformat_minor": 5
}
