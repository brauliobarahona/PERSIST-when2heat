{
 "cells": [
  {
   "cell_type": "markdown",
   "id": "636d200f",
   "metadata": {},
   "source": [
    "## Manual data download"
   ]
  },
  {
   "cell_type": "markdown",
   "id": "d3033e30",
   "metadata": {},
   "source": [
    "Download files from [JRC-IDEES](https://data.jrc.ec.europa.eu/dataset/jrc-10110-10001) and follow the Excel url. Than, download the country-specific annual demands \"JRC-IDEES-2015_All_xlsx_COUNTRY.zip\" and pose the sector specific file in your repository or adjust your filename with your download path. "
   ]
  },
  {
   "cell_type": "markdown",
   "id": "ed6d60d6",
   "metadata": {},
   "source": [
    "## Import Python libraries"
   ]
  },
  {
   "cell_type": "code",
   "execution_count": 1,
   "id": "c6404e3a",
   "metadata": {
    "ExecuteTime": {
     "end_time": "2024-02-14T15:52:54.238639Z",
     "start_time": "2024-02-14T15:52:53.865187Z"
    }
   },
   "outputs": [
    {
     "name": "stderr",
     "output_type": "stream",
     "text": [
      "/var/folders/wj/n1y75fl919gcclyd08jsdb300000gn/T/ipykernel_24030/3667580626.py:1: DeprecationWarning: \n",
      "Pyarrow will become a required dependency of pandas in the next major release of pandas (pandas 3.0),\n",
      "(to allow more performant data types, such as the Arrow string type, and better interoperability with other libraries)\n",
      "but was not found to be installed on your system.\n",
      "If this would cause problems for you,\n",
      "please provide us feedback at https://github.com/pandas-dev/pandas/issues/54466\n",
      "        \n",
      "  import pandas as pd\n"
     ]
    }
   ],
   "source": [
    "import pandas as pd\n",
    "from openpyxl import load_workbook\n",
    "import os"
   ]
  },
  {
   "cell_type": "markdown",
   "id": "1b5bcba0",
   "metadata": {},
   "source": [
    "## Select geographical, sectoral, and temporal scope"
   ]
  },
  {
   "cell_type": "code",
   "execution_count": 2,
   "id": "1b192e12",
   "metadata": {
    "ExecuteTime": {
     "end_time": "2024-02-14T15:52:54.239090Z",
     "start_time": "2024-02-14T15:52:54.236849Z"
    }
   },
   "outputs": [],
   "source": [
    "all_countries = ['AT', 'BE', 'BG', 'CZ', 'DE', 'DK', \n",
    "                 'EE', 'ES', 'FI', 'FR', 'GB', 'HR', \n",
    "                 'HU', 'IE', 'IT', 'LT', 'LU', 'LV', 'GR',\n",
    "                  'NL', 'PL', 'PT', 'RO', 'SE', 'SI', 'SK']\n",
    "\n",
    "#all_countries = ['DE']\n",
    "selected_countries = all_countries\n",
    "\n",
    "# GB is named UK in JCR\n",
    "# GR is named EL in JCR\n",
    "# missing in JCR: CH, NO\n",
    "name_clearification = {\"GB\" : \"UK\",\n",
    "                      \"GR\": \"EL\"}"
   ]
  },
  {
   "cell_type": "code",
   "execution_count": 3,
   "id": "852ecc55",
   "metadata": {
    "ExecuteTime": {
     "end_time": "2024-02-14T15:52:54.243358Z",
     "start_time": "2024-02-14T15:52:54.239288Z"
    }
   },
   "outputs": [],
   "source": [
    "sectors = [\"Residential\", \"Tertiary\"]\n",
    "applications = [\"water\", \"space\"]\n",
    "\n",
    "start_year = \"2008\"\n",
    "end_year = \"2015\""
   ]
  },
  {
   "cell_type": "markdown",
   "id": "10173279",
   "metadata": {},
   "source": [
    "## Preprocessing of JRC-IDEES data"
   ]
  },
  {
   "cell_type": "markdown",
   "id": "2ae9398a",
   "metadata": {},
   "source": [
    "Read the excel country- and sector-specific excel and make a sector-specific dataframe which is placed in the interim folder"
   ]
  },
  {
   "cell_type": "code",
   "execution_count": 4,
   "id": "fe220566",
   "metadata": {
    "ExecuteTime": {
     "end_time": "2024-02-14T15:52:54.247409Z",
     "start_time": "2024-02-14T15:52:54.243241Z"
    }
   },
   "outputs": [],
   "source": [
    "def read (sector, application, country_code):\n",
    "    #TODO input path adjusted\n",
    "    if country_code == \"GB\":\n",
    "        filename = f\"{input_path}/JRC_IDEES/JRC-IDEES-2015_{sector}_{name_clearification[country_code]}.xlsx\"\n",
    "    elif country_code ==\"GR\":\n",
    "        filename = f\"{input_path}/JRC_IDEES/JRC-IDEES-2015_{sector}_{name_clearification[country_code]}.xlsx\"\n",
    "    else:\n",
    "        filename = f\"{input_path}/JRC_IDEES/JRC-IDEES-2015_{sector}_{country_code}.xlsx\"\n",
    "    sheet_name = \"RES_hh_tes\" if sector == \"Residential\" else \"SER_hh_tes\"\n",
    "    \n",
    "    raw = pd.read_excel(filename, header = 0, sheet_name = sheet_name, index_col = 0)\n",
    "    \n",
    "    if application == \"water\":\n",
    "        row_selection = 'Water heating' if sector == \"Residential\" else \"Hot water\"\n",
    "    else: \n",
    "        row_selection = \"Space heating\"\n",
    "    \n",
    "    df = raw.loc[row_selection, start_year:end_year].to_frame().rename(columns = {row_selection: country_code})\n",
    "    df = df.transpose() * 1.163e-2\n",
    "    return df"
   ]
  },
  {
   "cell_type": "code",
   "outputs": [],
   "source": [
    "# TODO @oliver check if the input path adjustments above work for you (the code below did not work on my Mac)\n",
    "# def read (sector, application, country_code):\n",
    "#     \n",
    "#     if country_code == \"GB\":\n",
    "#         filename = f\"JRC-IDEES-2015_{sector}_{name_clearification[country_code]}.xlsx\"\n",
    "#     elif country_code ==\"GR\":\n",
    "#         filename = f\"JRC-IDEES-2015_{sector}_{name_clearification[country_code]}.xlsx\"\n",
    "#     else:\n",
    "#         filename = f\"JRC-IDEES-2015_{sector}_{country_code}.xlsx\"\n",
    "#     sheet_name = \"RES_hh_tes\" if sector == \"Residential\" else \"SER_hh_tes\"\n",
    "#     \n",
    "#     raw = pd.read_excel(filename, header = 0, sheet_name = sheet_name, index_col = 0)\n",
    "#     \n",
    "#     if application == \"water\":\n",
    "#         row_selection = 'Water heating' if sector == \"Residential\" else \"Hot water\"\n",
    "#     else: \n",
    "#         row_selection = \"Space heating\"\n",
    "#     \n",
    "#     df = raw.loc[row_selection, start_year:end_year].to_frame().rename(columns = {row_selection: country_code})\n",
    "#     df = df.transpose() * 1.163e-2\n",
    "#     return df"
   ],
   "metadata": {
    "collapsed": false
   },
   "id": "852e66028d4364ef"
  },
  {
   "cell_type": "code",
   "execution_count": 5,
   "id": "c20c8af6",
   "metadata": {
    "ExecuteTime": {
     "end_time": "2024-02-14T15:52:54.252652Z",
     "start_time": "2024-02-14T15:52:54.246152Z"
    }
   },
   "outputs": [],
   "source": [
    "input_path = os.path.realpath('../input')"
   ]
  },
  {
   "cell_type": "code",
   "execution_count": 6,
   "id": "2d27793a",
   "metadata": {
    "ExecuteTime": {
     "end_time": "2024-02-14T15:53:01.387618Z",
     "start_time": "2024-02-14T15:52:54.251433Z"
    }
   },
   "outputs": [],
   "source": [
    "for sector in sectors:\n",
    "    for application in applications:\n",
    "            pd.concat([\n",
    "                read(sector, application, country) for country in selected_countries\n",
    "            ], axis = 0).to_csv(f\"{input_path}/JRC_IDEES/{sector}_{application}.csv\", decimal = \",\")"
   ]
  },
  {
   "cell_type": "code",
   "execution_count": 6,
   "id": "2cdf39dc",
   "metadata": {
    "ExecuteTime": {
     "end_time": "2024-02-14T15:53:01.391878Z",
     "start_time": "2024-02-14T15:53:01.387604Z"
    }
   },
   "outputs": [],
   "source": []
  }
 ],
 "metadata": {
  "kernelspec": {
   "display_name": "Python 3",
   "language": "python",
   "name": "python3"
  },
  "language_info": {
   "codemirror_mode": {
    "name": "ipython",
    "version": 3
   },
   "file_extension": ".py",
   "mimetype": "text/x-python",
   "name": "python",
   "nbconvert_exporter": "python",
   "pygments_lexer": "ipython3",
   "version": "3.7.10"
  }
 },
 "nbformat": 4,
 "nbformat_minor": 5
}
